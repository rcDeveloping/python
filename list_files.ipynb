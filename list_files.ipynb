{
 "cells": [
  {
   "cell_type": "markdown",
   "id": "9c855d27",
   "metadata": {},
   "source": [
    "# List files in a directory to find out the most recently file"
   ]
  },
  {
   "cell_type": "code",
   "execution_count": 8,
   "id": "ef5a4fd9",
   "metadata": {},
   "outputs": [
    {
     "name": "stdout",
     "output_type": "stream",
     "text": [
      "Plataforma Pau Brasil_Portaria Ibama nº 8_3jan2022.pdf\n"
     ]
    }
   ],
   "source": [
    "import os\n",
    "\n",
    "my_path = 'D://'\n",
    "\n",
    "list_files = os.listdir(my_path)\n",
    "\n",
    "date_list = []\n",
    "\n",
    "# files and dir\n",
    "for file in list_files:\n",
    "    # find out modifiction date of files\n",
    "    date_file = os.path.getmtime(f'{my_path}/{file}')\n",
    "    #print(file, date_file)\n",
    "    \n",
    "    # append files to date list\n",
    "    date_list.append((date_file, file)) \n",
    "    \n",
    "\n",
    "# only a type of file\n",
    "for file in list_files:\n",
    "    # find out modifiction date of files\n",
    "    if '.xlsx' in file:\n",
    "        date_file = os.path.getmtime(f'{my_path}/{file}')\n",
    "        #print(file, date_file)\n",
    "\n",
    "        # append files to date list\n",
    "        date_list.append((date_file, file)) \n",
    "\n",
    "\n",
    "date_list.sort(reverse=True)\n",
    "#print(date_list)\n",
    "\n",
    "# get the last file\n",
    "last_file = date_list[0]\n",
    "print(last_file[1])"
   ]
  },
  {
   "cell_type": "markdown",
   "id": "96b4ffee",
   "metadata": {},
   "source": [
    "## Specific files"
   ]
  },
  {
   "cell_type": "code",
   "execution_count": 9,
   "id": "c39880aa",
   "metadata": {},
   "outputs": [
    {
     "name": "stdout",
     "output_type": "stream",
     "text": [
      "processosExportacao.xlsx\n"
     ]
    }
   ],
   "source": [
    "list_files = os.listdir(my_path)\n",
    "\n",
    "date_list = []\n",
    "    \n",
    "\n",
    "# only a type of file\n",
    "for file in list_files:\n",
    "    # find out modifiction date of files\n",
    "    if '.xlsx' in file:\n",
    "        date_file = os.path.getmtime(f'{my_path}/{file}')\n",
    "        #print(file, date_file)\n",
    "\n",
    "        # append files to date list\n",
    "        date_list.append((date_file, file)) \n",
    "\n",
    "\n",
    "date_list.sort(reverse=True)\n",
    "#print(date_list)\n",
    "\n",
    "# get the last file\n",
    "last_file = date_list[0]\n",
    "print(last_file[1])"
   ]
  },
  {
   "cell_type": "code",
   "execution_count": null,
   "id": "550c8145",
   "metadata": {},
   "outputs": [],
   "source": []
  }
 ],
 "metadata": {
  "kernelspec": {
   "display_name": "Python 3",
   "language": "python",
   "name": "python3"
  },
  "language_info": {
   "codemirror_mode": {
    "name": "ipython",
    "version": 3
   },
   "file_extension": ".py",
   "mimetype": "text/x-python",
   "name": "python",
   "nbconvert_exporter": "python",
   "pygments_lexer": "ipython3",
   "version": "3.8.8"
  }
 },
 "nbformat": 4,
 "nbformat_minor": 5
}
