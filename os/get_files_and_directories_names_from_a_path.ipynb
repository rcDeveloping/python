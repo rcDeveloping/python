{
 "cells": [
  {
   "cell_type": "markdown",
   "id": "f69b4493",
   "metadata": {},
   "source": [
    "## Get files and directories names from a path"
   ]
  },
  {
   "cell_type": "markdown",
   "id": "4ff42ed4",
   "metadata": {},
   "source": [
    "* Import packages"
   ]
  },
  {
   "cell_type": "code",
   "execution_count": null,
   "id": "2c7083e5",
   "metadata": {},
   "outputs": [],
   "source": [
    "import os\n",
    "import pandas as pd"
   ]
  },
  {
   "cell_type": "markdown",
   "id": "33edfb32",
   "metadata": {},
   "source": [
    "* Set directory"
   ]
  },
  {
   "cell_type": "code",
   "execution_count": null,
   "id": "4a7b38be",
   "metadata": {},
   "outputs": [],
   "source": [
    "my_path = 'D://Robson/home_office'"
   ]
  },
  {
   "cell_type": "markdown",
   "id": "37268bef",
   "metadata": {},
   "source": [
    "* scan the path"
   ]
  },
  {
   "cell_type": "code",
   "execution_count": null,
   "id": "b1198e55",
   "metadata": {},
   "outputs": [],
   "source": [
    "list_files = os.scandir(my_path)"
   ]
  },
  {
   "cell_type": "markdown",
   "id": "0f4f6e3a",
   "metadata": {},
   "source": [
    "* Initialize empty list for files and directories\n",
    " * loop over files and directories\n",
    " * set dataframes"
   ]
  },
  {
   "cell_type": "code",
   "execution_count": null,
   "id": "512c7bba",
   "metadata": {},
   "outputs": [],
   "source": [
    "# Initialize empty list for files and directories\n",
    "files = []\n",
    "dir = []\n",
    "\n",
    "# loop over files and directories\n",
    "for file in list_files:\n",
    "    \n",
    "        # check out if there is a files in the path\n",
    "        # and append it to aa files list, else append to a dir list\n",
    "        if file.is_file():\n",
    "            files.append(file)\n",
    "        else:\n",
    "            dir.append(file)\n",
    "\n",
    "# set dataframes\n",
    "files_df = pd.DataFrame({'file': files})\n",
    "dir_df = pd.DataFrame({'dir': dir})"
   ]
  },
  {
   "cell_type": "markdown",
   "id": "592e2eab",
   "metadata": {},
   "source": [
    "* Display the results"
   ]
  },
  {
   "cell_type": "code",
   "execution_count": 60,
   "id": "273fa6b6",
   "metadata": {},
   "outputs": [
    {
     "data": {
      "text/html": [
       "<div>\n",
       "<style scoped>\n",
       "    .dataframe tbody tr th:only-of-type {\n",
       "        vertical-align: middle;\n",
       "    }\n",
       "\n",
       "    .dataframe tbody tr th {\n",
       "        vertical-align: top;\n",
       "    }\n",
       "\n",
       "    .dataframe thead th {\n",
       "        text-align: right;\n",
       "    }\n",
       "</style>\n",
       "<table border=\"1\" class=\"dataframe\">\n",
       "  <thead>\n",
       "    <tr style=\"text-align: right;\">\n",
       "      <th></th>\n",
       "      <th>dir</th>\n",
       "    </tr>\n",
       "  </thead>\n",
       "  <tbody>\n",
       "    <tr>\n",
       "      <th>0</th>\n",
       "      <td>&lt;DirEntry '00807.001189-2021-13'&gt;</td>\n",
       "    </tr>\n",
       "    <tr>\n",
       "      <th>1</th>\n",
       "      <td>&lt;DirEntry '00807.003957-2021-65'&gt;</td>\n",
       "    </tr>\n",
       "    <tr>\n",
       "      <th>2</th>\n",
       "      <td>&lt;DirEntry '00807.004002-2020-44'&gt;</td>\n",
       "    </tr>\n",
       "    <tr>\n",
       "      <th>3</th>\n",
       "      <td>&lt;DirEntry '00807.007115-2020-00'&gt;</td>\n",
       "    </tr>\n",
       "    <tr>\n",
       "      <th>4</th>\n",
       "      <td>&lt;DirEntry '02001.019346-2020-59'&gt;</td>\n",
       "    </tr>\n",
       "  </tbody>\n",
       "</table>\n",
       "</div>"
      ],
      "text/plain": [
       "                                 dir\n",
       "0  <DirEntry '00807.001189-2021-13'>\n",
       "1  <DirEntry '00807.003957-2021-65'>\n",
       "2  <DirEntry '00807.004002-2020-44'>\n",
       "3  <DirEntry '00807.007115-2020-00'>\n",
       "4  <DirEntry '02001.019346-2020-59'>"
      ]
     },
     "metadata": {},
     "output_type": "display_data"
    },
    {
     "data": {
      "text/html": [
       "<div>\n",
       "<style scoped>\n",
       "    .dataframe tbody tr th:only-of-type {\n",
       "        vertical-align: middle;\n",
       "    }\n",
       "\n",
       "    .dataframe tbody tr th {\n",
       "        vertical-align: top;\n",
       "    }\n",
       "\n",
       "    .dataframe thead th {\n",
       "        text-align: right;\n",
       "    }\n",
       "</style>\n",
       "<table border=\"1\" class=\"dataframe\">\n",
       "  <thead>\n",
       "    <tr style=\"text-align: right;\">\n",
       "      <th></th>\n",
       "      <th>file</th>\n",
       "    </tr>\n",
       "  </thead>\n",
       "  <tbody>\n",
       "    <tr>\n",
       "      <th>0</th>\n",
       "      <td>&lt;DirEntry '20211029Sei_Ibama_10977124Minuta_de...</td>\n",
       "    </tr>\n",
       "    <tr>\n",
       "      <th>1</th>\n",
       "      <td>&lt;DirEntry '20211029Sei_Ibama_10977460_Nota_Tec...</td>\n",
       "    </tr>\n",
       "    <tr>\n",
       "      <th>2</th>\n",
       "      <td>&lt;DirEntry '20211029_Sei_Ibama_9784013_Parecer_...</td>\n",
       "    </tr>\n",
       "    <tr>\n",
       "      <th>3</th>\n",
       "      <td>&lt;DirEntry 'acesso_siscom.txt'&gt;</td>\n",
       "    </tr>\n",
       "    <tr>\n",
       "      <th>4</th>\n",
       "      <td>&lt;DirEntry 'agrotoxicos-fiscalizacao_NT.pdf'&gt;</td>\n",
       "    </tr>\n",
       "  </tbody>\n",
       "</table>\n",
       "</div>"
      ],
      "text/plain": [
       "                                                file\n",
       "0  <DirEntry '20211029Sei_Ibama_10977124Minuta_de...\n",
       "1  <DirEntry '20211029Sei_Ibama_10977460_Nota_Tec...\n",
       "2  <DirEntry '20211029_Sei_Ibama_9784013_Parecer_...\n",
       "3                     <DirEntry 'acesso_siscom.txt'>\n",
       "4       <DirEntry 'agrotoxicos-fiscalizacao_NT.pdf'>"
      ]
     },
     "metadata": {},
     "output_type": "display_data"
    }
   ],
   "source": [
    "display(dir_df.head())\n",
    "display(files_df.head())"
   ]
  },
  {
   "cell_type": "markdown",
   "id": "267f26c1",
   "metadata": {},
   "source": [
    "* Save the dataframes as csv file"
   ]
  },
  {
   "cell_type": "code",
   "execution_count": null,
   "id": "5ead63a1",
   "metadata": {},
   "outputs": [],
   "source": [
    "dir_df.to_csv('dir_df.csv', index=False)\n",
    "files_df.to_csv('files_df.csv', index=False)"
   ]
  }
 ],
 "metadata": {
  "kernelspec": {
   "display_name": "Python 3",
   "language": "python",
   "name": "python3"
  },
  "language_info": {
   "codemirror_mode": {
    "name": "ipython",
    "version": 3
   },
   "file_extension": ".py",
   "mimetype": "text/x-python",
   "name": "python",
   "nbconvert_exporter": "python",
   "pygments_lexer": "ipython3",
   "version": "3.8.8"
  }
 },
 "nbformat": 4,
 "nbformat_minor": 5
}
